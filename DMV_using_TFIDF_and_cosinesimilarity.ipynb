{
  "nbformat": 4,
  "nbformat_minor": 0,
  "metadata": {
    "colab": {
      "provenance": []
    },
    "kernelspec": {
      "name": "python3",
      "display_name": "Python 3"
    },
    "language_info": {
      "name": "python"
    }
  },
  "cells": [
    {
      "cell_type": "code",
      "source": [
        "from google.colab import drive\n",
        "drive.mount(\"/content/drive\", force_remount=True)"
      ],
      "metadata": {
        "colab": {
          "base_uri": "https://localhost:8080/"
        },
        "id": "y7mX8iJR7wvQ",
        "outputId": "69b78648-0230-436d-b71f-f56ab738934a"
      },
      "execution_count": 1,
      "outputs": [
        {
          "output_type": "stream",
          "name": "stdout",
          "text": [
            "Mounted at /content/drive\n"
          ]
        }
      ]
    },
    {
      "cell_type": "code",
      "execution_count": 2,
      "metadata": {
        "id": "39d12d5e",
        "colab": {
          "base_uri": "https://localhost:8080/"
        },
        "outputId": "5f766227-1522-4fb8-931f-6c7d638b7e1f"
      },
      "outputs": [
        {
          "output_type": "stream",
          "name": "stdout",
          "text": [
            "Collecting PyMuPDF\n",
            "  Downloading PyMuPDF-1.23.26-cp310-none-manylinux2014_x86_64.whl (4.4 MB)\n",
            "\u001b[2K     \u001b[90m━━━━━━━━━━━━━━━━━━━━━━━━━━━━━━━━━━━━━━━━\u001b[0m \u001b[32m4.4/4.4 MB\u001b[0m \u001b[31m37.5 MB/s\u001b[0m eta \u001b[36m0:00:00\u001b[0m\n",
            "\u001b[?25hCollecting PyMuPDFb==1.23.22 (from PyMuPDF)\n",
            "  Downloading PyMuPDFb-1.23.22-py3-none-manylinux2014_x86_64.manylinux_2_17_x86_64.whl (30.6 MB)\n",
            "\u001b[2K     \u001b[90m━━━━━━━━━━━━━━━━━━━━━━━━━━━━━━━━━━━━━━━━\u001b[0m \u001b[32m30.6/30.6 MB\u001b[0m \u001b[31m19.1 MB/s\u001b[0m eta \u001b[36m0:00:00\u001b[0m\n",
            "\u001b[?25hInstalling collected packages: PyMuPDFb, PyMuPDF\n",
            "Successfully installed PyMuPDF-1.23.26 PyMuPDFb-1.23.22\n"
          ]
        }
      ],
      "source": [
        "!pip install PyMuPDF"
      ]
    },
    {
      "cell_type": "code",
      "execution_count": 3,
      "metadata": {
        "id": "2a46fffd",
        "colab": {
          "base_uri": "https://localhost:8080/",
          "height": 1000
        },
        "outputId": "4f1a3377-b3fb-4c2c-ee99-c323b44a0854"
      },
      "outputs": [
        {
          "output_type": "execute_result",
          "data": {
            "text/plain": [
              "'5In this section you’ll learn about:  Traffic signalsTraffic signsPavement markings  Painted curbsTraffic signals, signs and  pavement markings are used for traffic control to provide a smooth, orderly flow of traffic. It is important to understand and obey them. It is illegal to avoid these traffic controls by cutting through a parking lot or field.  Obey all signs and signals unless directed by a police officer; always follow the officer’s direction.Traffic Signals Traffic signals apply to drivers, motorcycle riders, bicyclists, moped-riders and pedestrians.Red light: At a red light, come to a complete stop at the stop line or, if there is no stop line, before entering the intersection or before reaching the crosswalk. Remain stopped as long as the signal is red, unless turns are allowed.Right turn on red: You may turn right while the traffic signal displays a red light. Before turning, you must come to a complete stop. Look both ways and yield the right-of-way to pedestrians and other traffic. Be sure to check for less visible vehicles such as motorcycles, bicycles and mopeds. Section 2: Signals, Signs and  Pavement MarkingsYou may not turn right on red if signs are posted at the intersection that read “No Turn on Red,” or if a red arrow pointing to the right is displayed. Left turn on red: You may turn left at a red light if you are on a one-way street and turning left onto another one-way street while the traffic signal displays a red light. Before turning, you must come to a complete stop. Look both ways and yield the right-of-way to pedestrians and other traffic. Be sure to check for less visible vehicles such as motorcycles, bicycles, and mopeds. You may not turn left on red if signs are posted at the intersection that read “No Turn on Red,” or if a red arrow pointing to the left is displayed. Red arrow: A red arrow means you must stop if you intend to move in the direction of the arrow. You may not proceed in the direction of the arrow as long as the red arrow is displayed, unless signs are posted at the intersection that read “Right on Red Arrow After Stop” or “Left on Red Arrow After Stop.” Virginia law prohibits right and left turns at red arrow lights. Note: If you are traveling in another state, make sure you know its laws for right and left turns at red and red arrow lights.  Flashing red light: At a flashing red light, come to a complete stop and yield to oncoming vehicles and pedestrians. You may go when the way is clear. At a railroad crossing, you must come to a complete stop even if you don’t see a train.Flashing red arrow: At a flashing red arrow, come to a complete stop, yield the right-of-way to vehicles coming from the other direction and pedestrians in the intersection, and proceed in the direction of the arrow when the way is clear.Yellow light or arrow: A yellow light or arrow are cautions warning that the light is about to change. If you have not entered the intersection, stop; or, if unsafe to stop, cautiously go through it. If you are already in the intersection, go through it cautiously.  Do not speed up to beat the light.Flashing yellow light: A flashing yellow light means slow down and proceed with caution. Flashing yellow lights are at locations with higher-than-normal hazardous conditions.Flashing yellow arrow: At a flashing yellow arrow, you may turn in the direction of the arrow, if the way is clear. Yield the right-of-way to vehicles coming from the other direction and pedestrians in the intersection. Be sure to check for less visible vehicles such as motorcycles, bicycles, and mopeds. If a traffic light changes from red to flashing yellow arrow while a pedestrian is in the intersection, allow the pedestrian to cross the street before turning.  6 Section 2: Signals, Signs and Pavement MarkingsGreen light or arrow: At a green light, you may go if the way is clear. At a green arrow, you may go in the direction of the arrow if the way is clear. If you are turning without a green arrow, you must yield the right-of-way to vehicles coming from the other direction and pedestrians in the intersection. Be sure to check for less visible vehicles such as motorcycles, bicycles, and mopeds. If a traffic light changes from red to green while a pedestrian is in the street, allow the pedestrian to cross the street before turning.Out of service signals: When traffic signals are not working because of a power outage or other problem and not displaying any lights, you are required to stop, proceeding through the intersection as though it were an all-way stop. This does not apply if a law enforcement officer or other authorized person is directing traffic at the intersection, or if portable stop signs are in use.Lane use signals indicate lanes where you can and  cannot drive during different hours of the day.  Red X: Never drive in a lane marked with  a red X signal.Yellow X or Yellow Diagonal Downward Arrow: These signals mean that you should move out  of the lane as soon as safely possible.Green Arrow: You are permitted to drive in a lane marked with a green arrow signal.Left-turn Arrow: You are permitted to enter in a lane marked with a one-way or two-way arrow only to turn in the direction of the arrow.Pedestrian Hybrid Beacons (PHBs): PHBs appear over intersections without stoplights and alert drivers when pedestrians are at a crosswalk. One yellow light at the bottom flashes when a pedestrian activates the PHB. Next, the yellow light turns solid to alert drivers to prepare to stop. Then, the top two red lights on the PHB turn solid while a walk signal appears at the crosswalk, and drivers must stop. Lastly, while the walk signal counts down for the pedestrians, the PHB’s two red lights alternate flashing, telling the driver that if the crosswalk is now clear, they may proceed with caution. Traffic SignsThe color and shape of a traffic sign communicates important information about the sign’s message. In poor visibility conditions, such as heavy fog, you may be able to make out only the shape of a sign. As you approach a sign and while still distant, you may see the color long before you can read the message or see the symbol, giving you some advance information.Sign Colors  Sign colors help you know what the intention of the sign is.Red used with white conveys stop, yield, do not, and no. Stop signs, yield signs, do not enter or wrong way signs, the circle and slash in a no turn sign, and the restrictions in a parking sign are examples.Black used with white conveys regulatory information. Speed limit, do not pass, no turns are examples where the operation is regulated by law and the black and white sign would be found.Yellow used with black conveys a warning. Curve ahead, stop ahead, overhead clearances, slippery when wet, are all examples. A specialized class of warning signs uses a strong yellow/green color with black to advise of school zone, pedestrian and/or bicyclist activities.Green and white, blue and white, and brown and white signs are used to provide helpful information. The green sign is used to provide destination types of information, while the blue sign is used to inform regarding motorists services. The brown sign is used to advise of historical or cultural interests that might exist in the area.Orange and black and pink and black signs are used to advise and warn in construction (orange) and incident (pink) areas. They are used with black and white signs that convey regulations that might exist only because of the construction effort or the incident.Sign ShapesOctagon (Stop): This eight-sided shape always means stop. You must come to a complete stop at the sign, stop line, pedestrian crosswalk or curb. Wait for any vehicle or pedestrian to clear the way. At some intersections you’ll find a sign beneath the stop sign that reads “All Way” or “4 Way.” At these intersections all vehicles on all roads leading into the intersection must stop. If you get to the intersection at the same time as other vehicles, the driver on the left must yield to the driver on the right.Triangle (Yield): You must slow down as you come to the intersection. Be prepared to stop. Let any vehicles, pedestrians or bicyclists safely pass before you proceed.   7Rectangle (Regulatory or Guide): Vertical signs generally give instructions or tell you the law. Horizontal signs may give directions or information.Diamond (Warning): These signs warn  you of special conditions or hazards ahead. Slow down and drive with caution. Be ready to stop.Pentagon (School Zone/School Crossing): This five-sided shape marks school zones and warns you about school crossings. Two signs may be used together to show the actual location of the crosswalk. Regulatory signs inform you of the law; you must obey their instructions. Remember that a red circle with a slash means NO — the symbol inside the circle tells you what is prohibited. Speed Limit: These signs tell you the maximum legal speed that you may drive on the road where the sign is posted when weather conditions are good. Some roads have electronic speed limit signs that change based on weather or traffic conditions. During rain, snow and ice, you may receive a ticket for driving too fast for the conditions even if you are driving at or less than the posted speed limit. Do Not Enter – Wrong Way: These signs mean you cannot drive in that direction. If you drive past these signs you are going in the wrong direction and could get into a head-on crash with vehicles headed your way. Immediately slow down, pull over, and cautiously turn around.One Way: Traffic flows only  in the direction of the arrow.No Left Turn: Left turns are against the law.  In Virginia, U-turns are considered as two left turns and are illegal if this sign is posted.Section 2: Signals, Signs and Pavement MarkingsNo Right Turn: Right turns are illegal. Do not make a right turn when you see this sign.No U-Turn: U-turns are illegal. Do not make  a U-turn when you see this sign.No Turn on Red: You may not turn on the  red light. Wait for the signal to turn green.Do Not Pass: This sign marks the beginning  of a no passing zone. You may not pass cars ahead of you in your lane, even if the way is clear.   Left Turn Yield on Green: This sign is used  with a traffic signal. It tells you that the traffic turning left at a green light does not have the right-of-way and must yield to traffic coming from the other direction. Stop and look for oncoming  traffic, then proceed with caution. Keep Right: A traffic island, median or barrier is ahead. Keep to the side indicated by the arrow.   Lane Use Control: These signs are used where turns are required or where special turning movements are permitted for specific lanes. Traffic in the lane must turn in the direction of  the arrow. High Occupancy Vehicle: These signs  indicate lanes reserved for buses and  vehicles with a driver and one or more passengers as specified on the sign.Disabled Parking: Parking spaces marked  with these signs are reserved for people with disabled parking permits. '"
            ],
            "application/vnd.google.colaboratory.intrinsic+json": {
              "type": "string"
            }
          },
          "metadata": {},
          "execution_count": 3
        }
      ],
      "source": [
        "import fitz  # PyMuPDF library\n",
        "\n",
        "def extract_text_by_columns(pdf_path):\n",
        "    with fitz.open(pdf_path) as pdf_file:\n",
        "        text = \"\"\n",
        "        for page in pdf_file:\n",
        "            texts = page.get_text(\"blocks\")\n",
        "            for block in texts:\n",
        "                bbox = block[0]  # Bounding box of the block\n",
        "                if bbox < 300:  # limit to separate columns\n",
        "                    text += block[4]\n",
        "                else:\n",
        "                    text += block[4]\n",
        "            text += \"\\n\"  # Add newline after each page\n",
        "            text = text.replace(\"\\r\", \"\")\n",
        "            text = text.replace(\"\\x17\", \"\")\n",
        "            text = text.replace(\"V I R G I N I A  D R I V E R ’ S  M A N U A L\", \"\")\n",
        "            text = text.replace(\"|\", \"\")\n",
        "            text = text.replace(\"   \", \"\")\n",
        "            text = text.replace(\"\\n\", \"\")\n",
        "    return text\n",
        "\n",
        "\n",
        "# Example usage\n",
        "pdf_path = r'/content/drive/MyDrive/Colab Notebooks/DMV_test.pdf'\n",
        "pdf_content = extract_text_by_columns(pdf_path)\n",
        "pdf_content"
      ]
    },
    {
      "cell_type": "code",
      "source": [
        "from sklearn.feature_extraction.text import TfidfVectorizer\n",
        "from sklearn.metrics.pairwise import cosine_similarity\n",
        "import numpy as np\n",
        "import re\n",
        "\n",
        "documents = pdf_content\n",
        "documents = re.split(r'(?<!\\w\\.\\w.)(?<![A-Z][a-z]\\.)(?<=\\.|\\?)\\s', documents)\n",
        "\n",
        "# documents = '''6 Section 2: Signals, Signs and Pavement Markings Green light or arrow: At a green light, you may go if the way is clear. At a green arrow, you may go in the direction of the arrow if the way is clear. If you are turning without a green arrow, you must yield the right-of-way to vehicles coming from the other direction and pedestrians in the intersection. Be sure to check for less visible vehicles such as motorcycles, bicycles, and mopeds.'''\n",
        "# documents = documents.split(\".\")\n",
        "\n",
        "vectorizer = TfidfVectorizer()\n",
        "\n",
        "tfidf_matrix = vectorizer.fit_transform(documents)\n",
        "cosine_sim = cosine_similarity(tfidf_matrix, tfidf_matrix)"
      ],
      "metadata": {
        "id": "_YTuPeG7LjFr"
      },
      "execution_count": 4,
      "outputs": []
    },
    {
      "cell_type": "code",
      "source": [
        "def generate_answer(text):\n",
        "    # Transform the given text into TF-IDF vector\n",
        "    text_tfidf = vectorizer.transform([text])\n",
        "\n",
        "    # Calculating cosine similarity between the given text and documents\n",
        "    text_cosine_sim = cosine_similarity(text_tfidf, tfidf_matrix)\n",
        "\n",
        "    sim_indices = np.argsort(text_cosine_sim.flatten())[::-1]\n",
        "    # print(sim_indices)\n",
        "\n",
        "    top_similar_docs = sim_indices[:1]\n",
        "    # print(top_similar_docs)\n",
        "\n",
        "    answer = ''\n",
        "    for idx in top_similar_docs:\n",
        "        answer += documents[idx] + '\\n\\n'\n",
        "\n",
        "    return answer.strip()"
      ],
      "metadata": {
        "id": "b7kTF9OKCKT2"
      },
      "execution_count": 5,
      "outputs": []
    },
    {
      "cell_type": "code",
      "source": [
        "# Test the summarization function\n",
        "input_text = \"What to do at green light?\"\n",
        "answer = generate_answer(input_text)\n",
        "print(f\"\\nInput Text: {input_text}\")\n",
        "print(f\"\\nAnswer: {answer}.\")"
      ],
      "metadata": {
        "colab": {
          "base_uri": "https://localhost:8080/"
        },
        "id": "IRYWrXTWLlTI",
        "outputId": "e71e0ec2-69de-4665-e53c-d6d375cdb724"
      },
      "execution_count": 6,
      "outputs": [
        {
          "output_type": "stream",
          "name": "stdout",
          "text": [
            "\n",
            "Input Text: What to do at green light?\n",
            "\n",
            "Answer: 6 Section 2: Signals, Signs and Pavement MarkingsGreen light or arrow: At a green light, you may go if the way is clear..\n"
          ]
        }
      ]
    },
    {
      "cell_type": "code",
      "source": [],
      "metadata": {
        "id": "n-_lny7ZSwTl"
      },
      "execution_count": null,
      "outputs": []
    },
    {
      "cell_type": "code",
      "source": [],
      "metadata": {
        "id": "rog3aelFSwYg"
      },
      "execution_count": null,
      "outputs": []
    },
    {
      "cell_type": "code",
      "source": [],
      "metadata": {
        "id": "aiGorh-sSwdN"
      },
      "execution_count": null,
      "outputs": []
    },
    {
      "cell_type": "code",
      "source": [
        "# # Save the model and sentences\n",
        "# model_dir = \"saved_model\"\n",
        "# if not os.path.exists(model_dir):\n",
        "#     os.makedirs(model_dir)\n",
        "\n",
        "# sentences_file = os.path.join(model_dir, \"sentences.txt\")\n",
        "# with open(sentences_file, \"w\") as f:\n",
        "#     for sentence in sentences:\n",
        "#         f.write(sentence + \"\\n\")"
      ],
      "metadata": {
        "id": "lW1sGzsvZTL7"
      },
      "execution_count": null,
      "outputs": []
    },
    {
      "cell_type": "code",
      "source": [],
      "metadata": {
        "id": "YO5j6Q5VaguE"
      },
      "execution_count": null,
      "outputs": []
    },
    {
      "cell_type": "markdown",
      "source": [
        "# Save the model to disk."
      ],
      "metadata": {
        "id": "c-rqBTN0eRJW"
      }
    },
    {
      "cell_type": "code",
      "source": [
        "from sklearn.feature_extraction.text import TfidfVectorizer\n",
        "from sklearn.metrics.pairwise import cosine_similarity\n",
        "import numpy as np\n",
        "import re\n",
        "import joblib"
      ],
      "metadata": {
        "id": "gueU5mlDahNF"
      },
      "execution_count": 7,
      "outputs": []
    },
    {
      "cell_type": "code",
      "source": [
        "documents = pdf_content\n",
        "documents = re.split(r'(?<!\\w\\.\\w.)(?<![A-Z][a-z]\\.)(?<=\\.|\\?)\\s', documents)"
      ],
      "metadata": {
        "id": "LRbJJxc7ahRu"
      },
      "execution_count": 8,
      "outputs": []
    },
    {
      "cell_type": "code",
      "source": [
        "vectorizer = TfidfVectorizer()\n",
        "\n",
        "tfidf_matrix = vectorizer.fit_transform(documents)\n",
        "cosine_sim = cosine_similarity(tfidf_matrix, tfidf_matrix)"
      ],
      "metadata": {
        "id": "ogceNyACahW1"
      },
      "execution_count": 9,
      "outputs": []
    },
    {
      "cell_type": "code",
      "source": [
        "# Save the model to disk\n",
        "joblib.dump((vectorizer, cosine_sim, documents), 'qa_model.pkl')"
      ],
      "metadata": {
        "colab": {
          "base_uri": "https://localhost:8080/"
        },
        "id": "NpP_Y-P2dgCR",
        "outputId": "eced437d-c955-45f6-e692-069c967152a6"
      },
      "execution_count": 10,
      "outputs": [
        {
          "output_type": "execute_result",
          "data": {
            "text/plain": [
              "['qa_model.pkl']"
            ]
          },
          "metadata": {},
          "execution_count": 10
        }
      ]
    },
    {
      "cell_type": "markdown",
      "source": [
        "# Use the saved model for Q and A."
      ],
      "metadata": {
        "id": "ptMJvoM2eWqe"
      }
    },
    {
      "cell_type": "code",
      "source": [
        "import joblib\n",
        "import numpy as np\n",
        "from sklearn.feature_extraction.text import TfidfVectorizer\n",
        "from sklearn.metrics.pairwise import cosine_similarity"
      ],
      "metadata": {
        "id": "lExnO9gid22e"
      },
      "execution_count": null,
      "outputs": []
    },
    {
      "cell_type": "code",
      "source": [
        "def generate_answer(text):\n",
        "    # Load the model from disk\n",
        "    vectorizer, cosine_sim, documents = joblib.load('qa_model.pkl')\n",
        "\n",
        "    # Transform the given text into TF-IDF vector using the same vectorizer\n",
        "    text_tfidf = vectorizer.transform([text])\n",
        "\n",
        "    # Calculating cosine similarity between the given text and documents\n",
        "    text_cosine_sim = cosine_similarity(text_tfidf, vectorizer.transform(documents))\n",
        "    sim_indices = np.argsort(text_cosine_sim.flatten())[::-1]\n",
        "    top_similar_docs = sim_indices[:1]\n",
        "\n",
        "    answer = ''\n",
        "    for idx in top_similar_docs:\n",
        "        answer += documents[idx] + '\\n\\n'\n",
        "\n",
        "    return answer.strip()"
      ],
      "metadata": {
        "id": "rJyMwlLad2vw"
      },
      "execution_count": null,
      "outputs": []
    },
    {
      "cell_type": "code",
      "source": [
        "# Q and A\n",
        "input_text = \"What to do at green light?\"\n",
        "answer = generate_answer(input_text)\n",
        "\n",
        "print(f\"\\nInput Text: {input_text}\")\n",
        "print(f\"\\nAnswer: {answer}\")"
      ],
      "metadata": {
        "colab": {
          "base_uri": "https://localhost:8080/"
        },
        "id": "4GR785k7d2mR",
        "outputId": "07bb5ee5-a59f-4da4-a6a7-a8691b59fc9b"
      },
      "execution_count": null,
      "outputs": [
        {
          "output_type": "stream",
          "name": "stdout",
          "text": [
            "\n",
            "Input Text: What to do at green light?\n",
            "\n",
            "Answer: 6 Section 2: Signals, Signs and Pavement MarkingsGreen light or arrow: At a green light, you may go if the way is clear.\n"
          ]
        }
      ]
    },
    {
      "cell_type": "code",
      "source": [],
      "metadata": {
        "id": "c1y9tyPRBhll"
      },
      "execution_count": null,
      "outputs": []
    }
  ]
}